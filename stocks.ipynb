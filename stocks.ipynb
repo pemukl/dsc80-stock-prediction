{
 "cells": [
  {
   "cell_type": "markdown",
   "metadata": {},
   "source": [
    "# Stock Trades by Members of the US House of Representatives\n",
    "\n",
    "* **See the main project notebook for instructions to be sure you satisfy the rubric!**\n",
    "* See Project 03 for information on the dataset.\n",
    "* A few example prediction questions to pursue are listed below. However, don't limit yourself to them!\n",
    "    - Can you predict the party affiliation of a representative from their stock trades?\n",
    "    - Can you predict the geographic region that the representative comes from using their stock trades? E.g., west coast, east coast, south, etc.\n",
    "    * Can you predict whether a particular trade is a BUY or SELL?\n",
    "\n",
    "Be careful to justify what information you would know at the \"time of prediction\" and train your model using only those features."
   ]
  },
  {
   "cell_type": "markdown",
   "metadata": {},
   "source": [
    "# Summary of Findings\n",
    "\n",
    "\n",
    "### Introduction\n",
    "TODO\n",
    "\n",
    "### Baseline Model\n",
    "TODO\n",
    "\n",
    "### Final Model\n",
    "TODO\n",
    "\n",
    "### Fairness Evaluation\n",
    "TODO"
   ]
  },
  {
   "cell_type": "markdown",
   "metadata": {},
   "source": [
    "# Code"
   ]
  },
  {
   "cell_type": "code",
   "execution_count": 4,
   "metadata": {},
   "outputs": [],
   "source": [
    "import matplotlib.pyplot as plt\n",
    "import numpy as np\n",
    "import os\n",
    "import pandas as pd\n",
    "import seaborn as sns\n",
    "from fuzzywuzzy import fuzz\n",
    "import fuzzywuzzy.process as fwp\n",
    "%matplotlib inline\n",
    "%config InlineBackend.figure_format = 'retina'  # Higher resolution figures"
   ]
  },
  {
   "cell_type": "code",
   "execution_count": 5,
   "outputs": [],
   "source": [
    "def merge_parties(path_cand='./data/house_candidate.csv', path_trans='./data/all_transactions.csv'):\n",
    "    data_candidates = pd.read_csv(path_cand)\n",
    "    data_candidates[\"candidate\"] = data_candidates[\"candidate\"].str.lower()\n",
    "    data_transactions = pd.read_csv(path_trans)\n",
    "    data_transactions[\"representative\"] = data_transactions[\"representative\"]\\\n",
    "        .str.lower()\\\n",
    "        .str.replace(\"hon. \", \"\", regex=False)\n",
    "    data_transactions[\"amount\"] = data_transactions[\"amount\"]\\\n",
    "        .str.replace(\"$\", \"\", regex=False)\\\n",
    "        .str.replace(\" \", \"\", regex=False)\\\n",
    "        .str.replace(\",\", \"\", regex=False)\\\n",
    "        .str.split(\"-\")\\\n",
    "        .apply(lambda x : np.floor(pd.to_numeric(pd.Series(x), errors=\"coerce\").mean()))\n",
    "    data_transactions.loc[data_transactions[\"ticker\"] == \"--\", \"ticker\"] = np.NaN\n",
    "    choices = data_transactions[\"representative\"].unique().tolist()\n",
    "    data_candidates[\"representative\"] = data_candidates[\"candidate\"].apply(lambda x : fmatch(x, choices))\n",
    "    data_candidates = data_candidates[[\"representative\", \"party\"]].drop_duplicates().dropna()\n",
    "    data_candidates = remove_duplicate_name(data_candidates)\n",
    "    data_transactions = data_transactions[[\"transaction_date\", \"ticker\", \"type\", \"amount\", \"representative\"]]\\\n",
    "        .drop_duplicates()\n",
    "    return data_transactions.merge(data_candidates, how=\"left\", left_on=\"representative\", right_on=\"representative\")\n",
    "\n",
    "def fmatch(row, choices):\n",
    "    choice = fwp.extractOne(row, choices, scorer=fuzz.token_set_ratio, score_cutoff=81)\n",
    "    return np.NaN if choice is None else choice[0]\n",
    "\n",
    "def count_names(search, list):\n",
    "    return len(list[list[\"representative\"] == search]) if not search == np.NaN else np.NaN\n",
    "\n",
    "def remove_duplicate_name(df):\n",
    "    new_df = df.copy()\n",
    "    unique_names = pd.DataFrame(new_df[\"representative\"]\n",
    "                                .apply(lambda x : x if count_names(x, new_df) == 1 else np.NaN).dropna())\n",
    "    return unique_names.merge(df, how=\"left\", left_on=\"representative\", right_on=\"representative\", suffixes=(\"l\", \"r\"))"
   ],
   "metadata": {
    "collapsed": false
   }
  },
  {
   "cell_type": "code",
   "execution_count": 6,
   "outputs": [
    {
     "data": {
      "text/plain": "      transaction_date ticker          type    amount       representative  \\\n0           2021-09-27     BP      purchase    8000.0        virginia foxx   \n1           2021-09-13    XOM      purchase    8000.0        virginia foxx   \n2           2021-09-10   ILPT      purchase   32500.0        virginia foxx   \n3           2021-09-28     PM      purchase   32500.0        virginia foxx   \n4           2021-09-17    BLK  sale_partial    8000.0    alan s. lowenthal   \n...                ...    ...           ...       ...                  ...   \n14432       2020-04-09    SWK  sale_partial    8000.0        ed perlmutter   \n14433       2020-04-09    USB  sale_partial    8000.0        ed perlmutter   \n14434       2020-03-13    BMY     sale_full  175000.0  nicholas van taylor   \n14435       2020-03-13    LLY     sale_full  750000.0  nicholas van taylor   \n14436       2020-03-13    DIS     sale_full  375000.0  nicholas van taylor   \n\n      party  \n0       REP  \n1       REP  \n2       REP  \n3       REP  \n4       DEM  \n...     ...  \n14432   DEM  \n14433   DEM  \n14434   REP  \n14435   REP  \n14436   REP  \n\n[14437 rows x 6 columns]",
      "text/html": "<div>\n<style scoped>\n    .dataframe tbody tr th:only-of-type {\n        vertical-align: middle;\n    }\n\n    .dataframe tbody tr th {\n        vertical-align: top;\n    }\n\n    .dataframe thead th {\n        text-align: right;\n    }\n</style>\n<table border=\"1\" class=\"dataframe\">\n  <thead>\n    <tr style=\"text-align: right;\">\n      <th></th>\n      <th>transaction_date</th>\n      <th>ticker</th>\n      <th>type</th>\n      <th>amount</th>\n      <th>representative</th>\n      <th>party</th>\n    </tr>\n  </thead>\n  <tbody>\n    <tr>\n      <th>0</th>\n      <td>2021-09-27</td>\n      <td>BP</td>\n      <td>purchase</td>\n      <td>8000.0</td>\n      <td>virginia foxx</td>\n      <td>REP</td>\n    </tr>\n    <tr>\n      <th>1</th>\n      <td>2021-09-13</td>\n      <td>XOM</td>\n      <td>purchase</td>\n      <td>8000.0</td>\n      <td>virginia foxx</td>\n      <td>REP</td>\n    </tr>\n    <tr>\n      <th>2</th>\n      <td>2021-09-10</td>\n      <td>ILPT</td>\n      <td>purchase</td>\n      <td>32500.0</td>\n      <td>virginia foxx</td>\n      <td>REP</td>\n    </tr>\n    <tr>\n      <th>3</th>\n      <td>2021-09-28</td>\n      <td>PM</td>\n      <td>purchase</td>\n      <td>32500.0</td>\n      <td>virginia foxx</td>\n      <td>REP</td>\n    </tr>\n    <tr>\n      <th>4</th>\n      <td>2021-09-17</td>\n      <td>BLK</td>\n      <td>sale_partial</td>\n      <td>8000.0</td>\n      <td>alan s. lowenthal</td>\n      <td>DEM</td>\n    </tr>\n    <tr>\n      <th>...</th>\n      <td>...</td>\n      <td>...</td>\n      <td>...</td>\n      <td>...</td>\n      <td>...</td>\n      <td>...</td>\n    </tr>\n    <tr>\n      <th>14432</th>\n      <td>2020-04-09</td>\n      <td>SWK</td>\n      <td>sale_partial</td>\n      <td>8000.0</td>\n      <td>ed perlmutter</td>\n      <td>DEM</td>\n    </tr>\n    <tr>\n      <th>14433</th>\n      <td>2020-04-09</td>\n      <td>USB</td>\n      <td>sale_partial</td>\n      <td>8000.0</td>\n      <td>ed perlmutter</td>\n      <td>DEM</td>\n    </tr>\n    <tr>\n      <th>14434</th>\n      <td>2020-03-13</td>\n      <td>BMY</td>\n      <td>sale_full</td>\n      <td>175000.0</td>\n      <td>nicholas van taylor</td>\n      <td>REP</td>\n    </tr>\n    <tr>\n      <th>14435</th>\n      <td>2020-03-13</td>\n      <td>LLY</td>\n      <td>sale_full</td>\n      <td>750000.0</td>\n      <td>nicholas van taylor</td>\n      <td>REP</td>\n    </tr>\n    <tr>\n      <th>14436</th>\n      <td>2020-03-13</td>\n      <td>DIS</td>\n      <td>sale_full</td>\n      <td>375000.0</td>\n      <td>nicholas van taylor</td>\n      <td>REP</td>\n    </tr>\n  </tbody>\n</table>\n<p>14437 rows × 6 columns</p>\n</div>"
     },
     "execution_count": 6,
     "metadata": {},
     "output_type": "execute_result"
    }
   ],
   "source": [
    "merge_parties()"
   ],
   "metadata": {
    "collapsed": false
   }
  },
  {
   "cell_type": "markdown",
   "metadata": {},
   "source": [
    "### Baseline Model"
   ]
  },
  {
   "cell_type": "code",
   "execution_count": null,
   "metadata": {},
   "outputs": [],
   "source": [
    "# TODO"
   ]
  },
  {
   "cell_type": "markdown",
   "metadata": {},
   "source": [
    "### Final Model"
   ]
  },
  {
   "cell_type": "code",
   "execution_count": null,
   "metadata": {},
   "outputs": [],
   "source": [
    "# TODO"
   ]
  },
  {
   "cell_type": "markdown",
   "metadata": {},
   "source": [
    "### Fairness Evaluation"
   ]
  },
  {
   "cell_type": "code",
   "execution_count": null,
   "metadata": {},
   "outputs": [],
   "source": [
    "# TODO"
   ]
  }
 ],
 "metadata": {
  "kernelspec": {
   "display_name": "Python 3 (ipykernel)",
   "language": "python",
   "name": "python3"
  },
  "language_info": {
   "codemirror_mode": {
    "name": "ipython",
    "version": 3
   },
   "file_extension": ".py",
   "mimetype": "text/x-python",
   "name": "python",
   "nbconvert_exporter": "python",
   "pygments_lexer": "ipython3",
   "version": "3.9.6"
  }
 },
 "nbformat": 4,
 "nbformat_minor": 2
}
