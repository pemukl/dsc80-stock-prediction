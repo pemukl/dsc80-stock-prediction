{
 "cells": [
  {
   "cell_type": "markdown",
   "metadata": {},
   "source": [
    "# Stock Trades by Members of the US House of Representatives\n",
    "\n",
    "* **See the main project notebook for instructions to be sure you satisfy the rubric!**\n",
    "* See Project 03 for information on the dataset.\n",
    "* A few example prediction questions to pursue are listed below. However, don't limit yourself to them!\n",
    "    - Can you predict the party affiliation of a representative from their stock trades?\n",
    "    - Can you predict the geographic region that the representative comes from using their stock trades? E.g., west coast, east coast, south, etc.\n",
    "    * Can you predict whether a particular trade is a BUY or SELL?\n",
    "\n",
    "Be careful to justify what information you would know at the \"time of prediction\" and train your model using only those features."
   ]
  },
  {
   "cell_type": "markdown",
   "metadata": {},
   "source": [
    "# Summary of Findings\n",
    "\n",
    "\n",
    "### Introduction\n",
    "TODO\n",
    "\n",
    "### Baseline Model\n",
    "TODO\n",
    "\n",
    "### Final Model\n",
    "TODO\n",
    "\n",
    "### Fairness Evaluation\n",
    "TODO"
   ]
  },
  {
   "cell_type": "markdown",
   "metadata": {},
   "source": [
    "# Code"
   ]
  },
  {
   "cell_type": "code",
   "execution_count": 4,
   "metadata": {},
   "outputs": [],
   "source": [
    "import matplotlib.pyplot as plt\n",
    "import numpy as np\n",
    "import os\n",
    "import pandas as pd\n",
    "import seaborn as sns\n",
    "from fuzzywuzzy import fuzz\n",
    "import fuzzywuzzy.process as fwp\n",
    "%matplotlib inline\n",
    "%config InlineBackend.figure_format = 'retina'  # Higher resolution figures"
   ]
  },
  {
   "cell_type": "code",
   "execution_count": 5,
   "outputs": [],
   "source": [
    "def merge_parties(path_cand='./data/house_candidate.csv', path_trans='./data/all_transactions.csv'):\n",
    "    data_candidates = pd.read_csv(path_cand)\n",
    "    data_candidates[\"candidate\"] = data_candidates[\"candidate\"].str.lower()\n",
    "    data_transactions = pd.read_csv(path_trans)\n",
    "    data_transactions[\"representative\"] = data_transactions[\"representative\"]\\\n",
    "        .str.lower()\\\n",
    "        .str.replace(\"hon. \", \"\", regex=False)\n",
    "    data_transactions[\"amount\"] = data_transactions[\"amount\"]\\\n",
    "        .str.replace(\"$\", \"\", regex=False)\\\n",
    "        .str.replace(\" \", \"\", regex=False)\\\n",
    "        .str.replace(\",\", \"\", regex=False)\\\n",
    "        .str.split(\"-\")\\\n",
    "        .apply(lambda x : np.floor(pd.to_numeric(pd.Series(x), errors=\"coerce\").mean()))\n",
    "    data_transactions.loc[data_transactions[\"ticker\"] == \"--\", \"ticker\"] = np.NaN\n",
    "    choices = data_transactions[\"representative\"].unique().tolist()\n",
    "    data_candidates[\"representative\"] = data_candidates[\"candidate\"].apply(lambda x : fmatch(x, choices))\n",
    "    data_candidates = data_candidates[[\"representative\", \"party\"]].drop_duplicates().dropna()\n",
    "    data_candidates = remove_duplicate_name(data_candidates)\n",
    "    data_transactions = data_transactions[[\"transaction_date\", \"ticker\", \"type\", \"amount\", \"representative\"]]\\\n",
    "        .drop_duplicates()\n",
    "    return data_transactions.merge(data_candidates, how=\"left\", left_on=\"representative\", right_on=\"representative\")\n",
    "\n",
    "def fmatch(row, choices):\n",
    "    choice = fwp.extractOne(row, choices, scorer=fuzz.token_set_ratio, score_cutoff=81)\n",
    "    return np.NaN if choice is None else choice[0]\n",
    "\n",
    "def count_names(search, list):\n",
    "    return len(list[list[\"representative\"] == search]) if not search == np.NaN else np.NaN\n",
    "\n",
    "def remove_duplicate_name(df):\n",
    "    new_df = df.copy()\n",
    "    unique_names = pd.DataFrame(new_df[\"representative\"]\n",
    "                                .apply(lambda x : x if count_names(x, new_df) == 1 else np.NaN).dropna())\n",
    "    return unique_names.merge(df, how=\"left\", left_on=\"representative\", right_on=\"representative\", suffixes=(\"l\", \"r\"))"
   ],
   "metadata": {
    "collapsed": false
   }
  },
  {
   "cell_type": "code",
   "execution_count": 8,
   "outputs": [
    {
     "data": {
      "text/plain": "  transaction_date ticker          type   amount         representative party\n0       2021-09-27     BP      purchase   8000.0          virginia foxx   REP\n1       2021-09-13    XOM      purchase   8000.0          virginia foxx   REP\n2       2021-09-10   ILPT      purchase  32500.0          virginia foxx   REP\n3       2021-09-28     PM      purchase  32500.0          virginia foxx   REP\n4       2021-09-17    BLK  sale_partial   8000.0      alan s. lowenthal   DEM\n5       2021-12-01    AXP      purchase   8000.0  aston donald mceachin   DEM\n6       2021-11-30  KPLTW      purchase   8000.0           austin scott   REP\n7       2021-11-18    AMD     sale_full  75000.0          thomas suozzi   DEM\n8       2021-11-18   AAPL     sale_full  75000.0          thomas suozzi   DEM\n9       2021-11-24   MSFT      purchase  75000.0          thomas suozzi   DEM",
      "text/html": "<div>\n<style scoped>\n    .dataframe tbody tr th:only-of-type {\n        vertical-align: middle;\n    }\n\n    .dataframe tbody tr th {\n        vertical-align: top;\n    }\n\n    .dataframe thead th {\n        text-align: right;\n    }\n</style>\n<table border=\"1\" class=\"dataframe\">\n  <thead>\n    <tr style=\"text-align: right;\">\n      <th></th>\n      <th>transaction_date</th>\n      <th>ticker</th>\n      <th>type</th>\n      <th>amount</th>\n      <th>representative</th>\n      <th>party</th>\n    </tr>\n  </thead>\n  <tbody>\n    <tr>\n      <th>0</th>\n      <td>2021-09-27</td>\n      <td>BP</td>\n      <td>purchase</td>\n      <td>8000.0</td>\n      <td>virginia foxx</td>\n      <td>REP</td>\n    </tr>\n    <tr>\n      <th>1</th>\n      <td>2021-09-13</td>\n      <td>XOM</td>\n      <td>purchase</td>\n      <td>8000.0</td>\n      <td>virginia foxx</td>\n      <td>REP</td>\n    </tr>\n    <tr>\n      <th>2</th>\n      <td>2021-09-10</td>\n      <td>ILPT</td>\n      <td>purchase</td>\n      <td>32500.0</td>\n      <td>virginia foxx</td>\n      <td>REP</td>\n    </tr>\n    <tr>\n      <th>3</th>\n      <td>2021-09-28</td>\n      <td>PM</td>\n      <td>purchase</td>\n      <td>32500.0</td>\n      <td>virginia foxx</td>\n      <td>REP</td>\n    </tr>\n    <tr>\n      <th>4</th>\n      <td>2021-09-17</td>\n      <td>BLK</td>\n      <td>sale_partial</td>\n      <td>8000.0</td>\n      <td>alan s. lowenthal</td>\n      <td>DEM</td>\n    </tr>\n    <tr>\n      <th>5</th>\n      <td>2021-12-01</td>\n      <td>AXP</td>\n      <td>purchase</td>\n      <td>8000.0</td>\n      <td>aston donald mceachin</td>\n      <td>DEM</td>\n    </tr>\n    <tr>\n      <th>6</th>\n      <td>2021-11-30</td>\n      <td>KPLTW</td>\n      <td>purchase</td>\n      <td>8000.0</td>\n      <td>austin scott</td>\n      <td>REP</td>\n    </tr>\n    <tr>\n      <th>7</th>\n      <td>2021-11-18</td>\n      <td>AMD</td>\n      <td>sale_full</td>\n      <td>75000.0</td>\n      <td>thomas suozzi</td>\n      <td>DEM</td>\n    </tr>\n    <tr>\n      <th>8</th>\n      <td>2021-11-18</td>\n      <td>AAPL</td>\n      <td>sale_full</td>\n      <td>75000.0</td>\n      <td>thomas suozzi</td>\n      <td>DEM</td>\n    </tr>\n    <tr>\n      <th>9</th>\n      <td>2021-11-24</td>\n      <td>MSFT</td>\n      <td>purchase</td>\n      <td>75000.0</td>\n      <td>thomas suozzi</td>\n      <td>DEM</td>\n    </tr>\n  </tbody>\n</table>\n</div>"
     },
     "execution_count": 8,
     "metadata": {},
     "output_type": "execute_result"
    }
   ],
   "source": [
    "data = merge_parties()\n",
    "data.head(10)"
   ],
   "metadata": {
    "collapsed": false
   }
  },
  {
   "cell_type": "code",
   "execution_count": 27,
   "outputs": [
    {
     "data": {
      "text/plain": "      transaction_date ticker          type   amount     representative party\n8           2021-11-18   AAPL     sale_full  75000.0      thomas suozzi   DEM\n224         2020-07-22   AAPL  sale_partial   8000.0   lloyd k. smucker   REP\n225         2020-10-09   AAPL  sale_partial  32500.0   lloyd k. smucker   REP\n426         2022-02-23   AAPL      purchase   8000.0      pete sessions   REP\n446         2020-08-28   AAPL  sale_partial  32500.0  david b. mckinley   REP\n...                ...    ...           ...      ...                ...   ...\n14246       2020-04-20   AAPL  sale_partial   8000.0    josh gottheimer   DEM\n14366       2020-03-23   AAPL  sale_partial  75000.0  david b. mckinley   REP\n14367       2020-03-09   AAPL      purchase   8000.0  david b. mckinley   REP\n14392       2020-05-18   AAPL     sale_full  32500.0    josh gottheimer   DEM\n14427       2020-04-22   AAPL     sale_full   8000.0      ed perlmutter   DEM\n\n[134 rows x 6 columns]",
      "text/html": "<div>\n<style scoped>\n    .dataframe tbody tr th:only-of-type {\n        vertical-align: middle;\n    }\n\n    .dataframe tbody tr th {\n        vertical-align: top;\n    }\n\n    .dataframe thead th {\n        text-align: right;\n    }\n</style>\n<table border=\"1\" class=\"dataframe\">\n  <thead>\n    <tr style=\"text-align: right;\">\n      <th></th>\n      <th>transaction_date</th>\n      <th>ticker</th>\n      <th>type</th>\n      <th>amount</th>\n      <th>representative</th>\n      <th>party</th>\n    </tr>\n  </thead>\n  <tbody>\n    <tr>\n      <th>8</th>\n      <td>2021-11-18</td>\n      <td>AAPL</td>\n      <td>sale_full</td>\n      <td>75000.0</td>\n      <td>thomas suozzi</td>\n      <td>DEM</td>\n    </tr>\n    <tr>\n      <th>224</th>\n      <td>2020-07-22</td>\n      <td>AAPL</td>\n      <td>sale_partial</td>\n      <td>8000.0</td>\n      <td>lloyd k. smucker</td>\n      <td>REP</td>\n    </tr>\n    <tr>\n      <th>225</th>\n      <td>2020-10-09</td>\n      <td>AAPL</td>\n      <td>sale_partial</td>\n      <td>32500.0</td>\n      <td>lloyd k. smucker</td>\n      <td>REP</td>\n    </tr>\n    <tr>\n      <th>426</th>\n      <td>2022-02-23</td>\n      <td>AAPL</td>\n      <td>purchase</td>\n      <td>8000.0</td>\n      <td>pete sessions</td>\n      <td>REP</td>\n    </tr>\n    <tr>\n      <th>446</th>\n      <td>2020-08-28</td>\n      <td>AAPL</td>\n      <td>sale_partial</td>\n      <td>32500.0</td>\n      <td>david b. mckinley</td>\n      <td>REP</td>\n    </tr>\n    <tr>\n      <th>...</th>\n      <td>...</td>\n      <td>...</td>\n      <td>...</td>\n      <td>...</td>\n      <td>...</td>\n      <td>...</td>\n    </tr>\n    <tr>\n      <th>14246</th>\n      <td>2020-04-20</td>\n      <td>AAPL</td>\n      <td>sale_partial</td>\n      <td>8000.0</td>\n      <td>josh gottheimer</td>\n      <td>DEM</td>\n    </tr>\n    <tr>\n      <th>14366</th>\n      <td>2020-03-23</td>\n      <td>AAPL</td>\n      <td>sale_partial</td>\n      <td>75000.0</td>\n      <td>david b. mckinley</td>\n      <td>REP</td>\n    </tr>\n    <tr>\n      <th>14367</th>\n      <td>2020-03-09</td>\n      <td>AAPL</td>\n      <td>purchase</td>\n      <td>8000.0</td>\n      <td>david b. mckinley</td>\n      <td>REP</td>\n    </tr>\n    <tr>\n      <th>14392</th>\n      <td>2020-05-18</td>\n      <td>AAPL</td>\n      <td>sale_full</td>\n      <td>32500.0</td>\n      <td>josh gottheimer</td>\n      <td>DEM</td>\n    </tr>\n    <tr>\n      <th>14427</th>\n      <td>2020-04-22</td>\n      <td>AAPL</td>\n      <td>sale_full</td>\n      <td>8000.0</td>\n      <td>ed perlmutter</td>\n      <td>DEM</td>\n    </tr>\n  </tbody>\n</table>\n<p>134 rows × 6 columns</p>\n</div>"
     },
     "execution_count": 27,
     "metadata": {},
     "output_type": "execute_result"
    }
   ],
   "source": [
    "apple_stocks = data[data[\"ticker\"] == \"AAPL\"]\n",
    "apple_stocks = apple_stocks.dropna()\n",
    "apple_stocks"
   ],
   "metadata": {
    "collapsed": false
   }
  },
  {
   "cell_type": "code",
   "execution_count": 31,
   "outputs": [],
   "source": [],
   "metadata": {
    "collapsed": false
   }
  },
  {
   "cell_type": "markdown",
   "metadata": {},
   "source": [
    "### Baseline Model"
   ]
  },
  {
   "cell_type": "code",
   "execution_count": 49,
   "metadata": {},
   "outputs": [
    {
     "data": {
      "text/plain": "0.7058823529411765"
     },
     "execution_count": 49,
     "metadata": {},
     "output_type": "execute_result"
    }
   ],
   "source": [
    "from sklearn.model_selection import train_test_split\n",
    "\n",
    "X_train, X_test, y_train, y_test = train_test_split(apple_stocks[['type', 'amount', 'transaction_date']],\n",
    "                                                        apple_stocks[['party']])\n",
    "\n",
    "from sklearn.compose import ColumnTransformer\n",
    "from sklearn.pipeline import Pipeline\n",
    "from sklearn.preprocessing import Binarizer, FunctionTransformer, OneHotEncoder\n",
    "from sklearn.preprocessing import KBinsDiscretizer\n",
    "from sklearn.ensemble import RandomForestClassifier\n",
    "from sklearn.ensemble import *\n",
    "from sklearn.tree import DecisionTreeClassifier\n",
    "year_prefix_hotencode = Pipeline([\n",
    "(\"get-year\", FunctionTransformer(lambda x : pd.DataFrame(x[\"transaction_date\"].str[:4]))),\n",
    "(\"onehot\", OneHotEncoder(handle_unknown='ignore')),\n",
    "])\n",
    "\n",
    "preproc = ColumnTransformer(\n",
    "transformers=[\n",
    "    ('amount', OneHotEncoder(handle_unknown='ignore'), [\"amount\", \"type\"]),\n",
    "    ('year', year_prefix_hotencode, [\"transaction_date\"])\n",
    "]\n",
    ")\n",
    "pl = Pipeline([\n",
    "('preproc', preproc),\n",
    "('embedding', DecisionTreeClassifier()),\n",
    "])\n",
    "pl.fit(X_train, y_train[\"party\"])\n",
    "pl.score(X_test, y_test[\"party\"])"
   ]
  },
  {
   "cell_type": "code",
   "execution_count": 55,
   "outputs": [
    {
     "data": {
      "text/plain": "(0.83, 0.6764705882352942)"
     },
     "execution_count": 55,
     "metadata": {},
     "output_type": "execute_result"
    }
   ],
   "source": [
    "(pl.score(X_train, y_train[\"party\"]), pl.score(X_test, y_test[\"party\"]))"
   ],
   "metadata": {
    "collapsed": false
   }
  },
  {
   "cell_type": "code",
   "execution_count": 52,
   "outputs": [
    {
     "data": {
      "text/plain": "0.7014705882352942"
     },
     "execution_count": 52,
     "metadata": {},
     "output_type": "execute_result"
    },
    {
     "data": {
      "text/plain": "<Figure size 640x480 with 1 Axes>",
      "image/png": "[encoded data removed]"
     },
     "metadata": {
      "image/png": {
       "width": 548,
       "height": 412
      }
     },
     "output_type": "display_data"
    }
   ],
   "source": [
    "res = []\n",
    "for _ in range(1_000):\n",
    "    X_train, X_test, y_train, y_test = train_test_split(apple_stocks[['type', 'amount', 'transaction_date']],\n",
    "                                                        apple_stocks[['party']])\n",
    "    pl.fit(X_train, y_train[\"party\"])\n",
    "    res.append(pl.score(X_test, y_test[\"party\"]))\n",
    "pd.Series(res).hist()\n",
    "pd.Series(res).mean()"
   ],
   "metadata": {
    "collapsed": false
   }
  },
  {
   "cell_type": "code",
   "execution_count": 30,
   "outputs": [
    {
     "data": {
      "text/plain": "      party\n9675    DEM\n4834    REP\n2477    REP\n12959   NaN\n12756   DEM\n...     ...\n905     REP\n5192    DEM\n12172   DEM\n235     DEM\n13349   DEM\n\n[10827 rows x 1 columns]",
      "text/html": "<div>\n<style scoped>\n    .dataframe tbody tr th:only-of-type {\n        vertical-align: middle;\n    }\n\n    .dataframe tbody tr th {\n        vertical-align: top;\n    }\n\n    .dataframe thead th {\n        text-align: right;\n    }\n</style>\n<table border=\"1\" class=\"dataframe\">\n  <thead>\n    <tr style=\"text-align: right;\">\n      <th></th>\n      <th>party</th>\n    </tr>\n  </thead>\n  <tbody>\n    <tr>\n      <th>9675</th>\n      <td>DEM</td>\n    </tr>\n    <tr>\n      <th>4834</th>\n      <td>REP</td>\n    </tr>\n    <tr>\n      <th>2477</th>\n      <td>REP</td>\n    </tr>\n    <tr>\n      <th>12959</th>\n      <td>NaN</td>\n    </tr>\n    <tr>\n      <th>12756</th>\n      <td>DEM</td>\n    </tr>\n    <tr>\n      <th>...</th>\n      <td>...</td>\n    </tr>\n    <tr>\n      <th>905</th>\n      <td>REP</td>\n    </tr>\n    <tr>\n      <th>5192</th>\n      <td>DEM</td>\n    </tr>\n    <tr>\n      <th>12172</th>\n      <td>DEM</td>\n    </tr>\n    <tr>\n      <th>235</th>\n      <td>DEM</td>\n    </tr>\n    <tr>\n      <th>13349</th>\n      <td>DEM</td>\n    </tr>\n  </tbody>\n</table>\n<p>10827 rows × 1 columns</p>\n</div>"
     },
     "execution_count": 30,
     "metadata": {},
     "output_type": "execute_result"
    }
   ],
   "source": [
    "y_train"
   ],
   "metadata": {
    "collapsed": false
   }
  },
  {
   "cell_type": "markdown",
   "metadata": {},
   "source": [
    "### Final Model"
   ]
  },
  {
   "cell_type": "code",
   "execution_count": null,
   "metadata": {},
   "outputs": [],
   "source": [
    "# TODO"
   ]
  },
  {
   "cell_type": "markdown",
   "metadata": {},
   "source": [
    "### Fairness Evaluation"
   ]
  },
  {
   "cell_type": "code",
   "execution_count": null,
   "metadata": {},
   "outputs": [],
   "source": [
    "# TODO"
   ]
  }
 ],
 "metadata": {
  "kernelspec": {
   "display_name": "Python 3 (ipykernel)",
   "language": "python",
   "name": "python3"
  },
  "language_info": {
   "codemirror_mode": {
    "name": "ipython",
    "version": 3
   },
   "file_extension": ".py",
   "mimetype": "text/x-python",
   "name": "python",
   "nbconvert_exporter": "python",
   "pygments_lexer": "ipython3",
   "version": "3.9.6"
  }
 },
 "nbformat": 4,
 "nbformat_minor": 2
}
